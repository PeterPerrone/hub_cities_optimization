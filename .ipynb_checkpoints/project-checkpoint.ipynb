{
 "cells": [
  {
   "cell_type": "markdown",
   "id": "729fa06c-db6b-44e7-8225-f81e0883741c",
   "metadata": {},
   "source": [
    "# Optimization Methods Project"
   ]
  },
  {
   "cell_type": "code",
   "execution_count": 2,
   "id": "0beff657-cb16-4703-b60b-0c7113909382",
   "metadata": {
    "tags": []
   },
   "outputs": [],
   "source": [
    "import gurobipy as gp\n",
    "import pandas as pd\n",
    "import numpy as np"
   ]
  },
  {
   "cell_type": "markdown",
   "id": "63fd9152-332c-481a-a484-7297c05d7721",
   "metadata": {},
   "source": [
    "## Question 2"
   ]
  },
  {
   "cell_type": "markdown",
   "id": "2bfc2901-a455-40dd-804f-7b4d0ea55d25",
   "metadata": {},
   "source": [
    "### Load Data"
   ]
  },
  {
   "cell_type": "code",
   "execution_count": 3,
   "id": "05aaa228-221c-4691-a578-cf2354a35f95",
   "metadata": {},
   "outputs": [],
   "source": [
    "df_city_sm = pd.read_csv(\"files/cities_small.csv\")\n",
    "df_city_md = pd.read_csv(\"files/cities_med.csv\")\n",
    "df_city_lg = pd.read_csv(\"files/cities_large.csv\")\n",
    "df_pkgs_sm = pd.read_csv(\"files/packages_small.csv\")\n",
    "df_pkgs_md = pd.read_csv(\"files/packages_med.csv\")\n",
    "df_pkgs_lg = pd.read_csv(\"files/packages_large.csv\")"
   ]
  },
  {
   "cell_type": "code",
   "execution_count": 4,
   "id": "5afd768d-fd9e-45b2-8c18-38035d1c8004",
   "metadata": {
    "tags": []
   },
   "outputs": [
    {
     "data": {
      "text/html": [
       "<div>\n",
       "<style scoped>\n",
       "    .dataframe tbody tr th:only-of-type {\n",
       "        vertical-align: middle;\n",
       "    }\n",
       "\n",
       "    .dataframe tbody tr th {\n",
       "        vertical-align: top;\n",
       "    }\n",
       "\n",
       "    .dataframe thead th {\n",
       "        text-align: right;\n",
       "    }\n",
       "</style>\n",
       "<table border=\"1\" class=\"dataframe\">\n",
       "  <thead>\n",
       "    <tr style=\"text-align: right;\">\n",
       "      <th></th>\n",
       "      <th>id</th>\n",
       "      <th>lat</th>\n",
       "      <th>lon</th>\n",
       "    </tr>\n",
       "  </thead>\n",
       "  <tbody>\n",
       "    <tr>\n",
       "      <th>0</th>\n",
       "      <td>0</td>\n",
       "      <td>37.618806</td>\n",
       "      <td>-122.375417</td>\n",
       "    </tr>\n",
       "    <tr>\n",
       "      <th>1</th>\n",
       "      <td>1</td>\n",
       "      <td>36.080044</td>\n",
       "      <td>-115.152235</td>\n",
       "    </tr>\n",
       "    <tr>\n",
       "      <th>2</th>\n",
       "      <td>2</td>\n",
       "      <td>33.636700</td>\n",
       "      <td>-84.427864</td>\n",
       "    </tr>\n",
       "    <tr>\n",
       "      <th>3</th>\n",
       "      <td>3</td>\n",
       "      <td>39.861667</td>\n",
       "      <td>-104.673167</td>\n",
       "    </tr>\n",
       "    <tr>\n",
       "      <th>4</th>\n",
       "      <td>4</td>\n",
       "      <td>33.942496</td>\n",
       "      <td>-118.408049</td>\n",
       "    </tr>\n",
       "  </tbody>\n",
       "</table>\n",
       "</div>"
      ],
      "text/plain": [
       "   id        lat         lon\n",
       "0   0  37.618806 -122.375417\n",
       "1   1  36.080044 -115.152235\n",
       "2   2  33.636700  -84.427864\n",
       "3   3  39.861667 -104.673167\n",
       "4   4  33.942496 -118.408049"
      ]
     },
     "execution_count": 4,
     "metadata": {},
     "output_type": "execute_result"
    }
   ],
   "source": [
    "df_city_sm.head()"
   ]
  },
  {
   "cell_type": "code",
   "execution_count": 5,
   "id": "8dca7c41-96ef-4528-8830-e25ecffb1485",
   "metadata": {
    "tags": []
   },
   "outputs": [],
   "source": [
    "cities = df_city_sm.id.to_list()"
   ]
  },
  {
   "cell_type": "code",
   "execution_count": 6,
   "id": "27d3e4ad-29f9-40bc-8766-634ef8867acd",
   "metadata": {
    "tags": []
   },
   "outputs": [
    {
     "data": {
      "text/plain": [
       "[0, 1, 2, 3, 4, 5, 6, 7, 8, 9, 10, 11, 12, 13, 14, 15, 16]"
      ]
     },
     "execution_count": 6,
     "metadata": {},
     "output_type": "execute_result"
    }
   ],
   "source": [
    "cities"
   ]
  },
  {
   "cell_type": "code",
   "execution_count": 13,
   "id": "b2ad4d61-6ec2-4a90-91f0-1b252f254386",
   "metadata": {
    "tags": []
   },
   "outputs": [],
   "source": [
    "def compute_dist(city1_row, city2_row):\n",
    "    city1_lat = city1_row.lat.item()\n",
    "    city1_lon = city1_row.lon.item()\n",
    "    city2_lat = city2_row.lat.item()\n",
    "    city2_lon = city2_row.lon.item()\n",
    "    return np.sqrt((city1_lat - city2_lat)**2 + (city1_lon - city2_lon)**2)"
   ]
  },
  {
   "cell_type": "code",
   "execution_count": 11,
   "id": "f34ad6fc-1188-43c9-8138-28fe46b578ec",
   "metadata": {
    "tags": []
   },
   "outputs": [
    {
     "data": {
      "text/html": [
       "<div>\n",
       "<style scoped>\n",
       "    .dataframe tbody tr th:only-of-type {\n",
       "        vertical-align: middle;\n",
       "    }\n",
       "\n",
       "    .dataframe tbody tr th {\n",
       "        vertical-align: top;\n",
       "    }\n",
       "\n",
       "    .dataframe thead th {\n",
       "        text-align: right;\n",
       "    }\n",
       "</style>\n",
       "<table border=\"1\" class=\"dataframe\">\n",
       "  <thead>\n",
       "    <tr style=\"text-align: right;\">\n",
       "      <th></th>\n",
       "      <th>id</th>\n",
       "      <th>lat</th>\n",
       "      <th>lon</th>\n",
       "    </tr>\n",
       "  </thead>\n",
       "  <tbody>\n",
       "    <tr>\n",
       "      <th>0</th>\n",
       "      <td>0</td>\n",
       "      <td>37.618806</td>\n",
       "      <td>-122.375417</td>\n",
       "    </tr>\n",
       "  </tbody>\n",
       "</table>\n",
       "</div>"
      ],
      "text/plain": [
       "   id        lat         lon\n",
       "0   0  37.618806 -122.375417"
      ]
     },
     "execution_count": 11,
     "metadata": {},
     "output_type": "execute_result"
    }
   ],
   "source": [
    "df_city_sm[df_city_sm.id == 0]"
   ]
  },
  {
   "cell_type": "code",
   "execution_count": 14,
   "id": "c7a03339-edb4-420c-974e-024ccb620e86",
   "metadata": {},
   "outputs": [
    {
     "data": {
      "text/plain": [
       "37.6188055555556"
      ]
     },
     "execution_count": 14,
     "metadata": {},
     "output_type": "execute_result"
    }
   ],
   "source": [
    "df_city_sm[df_city_sm.id == 0].lat.item()"
   ]
  },
  {
   "cell_type": "code",
   "execution_count": 15,
   "id": "38d729bd-3766-4c99-a2fe-1d0dfd9db0c5",
   "metadata": {
    "tags": []
   },
   "outputs": [],
   "source": [
    "dists = {}\n",
    "for i, city1 in enumerate(cities):\n",
    "    city1_row = df_city_sm[df_city_sm.id == city1]\n",
    "    for city2 in cities[i:]:\n",
    "        city2_row = df_city_sm[df_city_sm.id == city2]\n",
    "        if (city1, city2) not in dists:\n",
    "            dists[(city1, city2)] = compute_dist(city1_row, city2_row)"
   ]
  },
  {
   "cell_type": "code",
   "execution_count": null,
   "id": "b555d299-2053-46ac-82c0-aa719a8f0232",
   "metadata": {},
   "outputs": [],
   "source": []
  }
 ],
 "metadata": {
  "kernelspec": {
   "display_name": "Python 3 (ipykernel)",
   "language": "python",
   "name": "python3"
  },
  "language_info": {
   "codemirror_mode": {
    "name": "ipython",
    "version": 3
   },
   "file_extension": ".py",
   "mimetype": "text/x-python",
   "name": "python",
   "nbconvert_exporter": "python",
   "pygments_lexer": "ipython3",
   "version": "3.11.4"
  }
 },
 "nbformat": 4,
 "nbformat_minor": 5
}
